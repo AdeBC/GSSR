{
 "cells": [
  {
   "cell_type": "code",
   "execution_count": 1,
   "metadata": {},
   "outputs": [
    {
     "name": "stderr",
     "output_type": "stream",
     "text": [
      "/home/chonghui/miniconda3/lib/python3.7/site-packages/pgmpy/estimators/CITests.py:95: UserWarning: Insufficient data for testing A _|_ D | ['E', 'B', 'C']. At least 5400 samples recommended, 2500 present.\n",
      "  5 * num_params, len(data)\n",
      "/home/chonghui/miniconda3/lib/python3.7/site-packages/pgmpy/estimators/CITests.py:95: UserWarning: Insufficient data for testing B _|_ D | ['E', 'A', 'C']. At least 4200 samples recommended, 2500 present.\n",
      "  5 * num_params, len(data)\n",
      "/home/chonghui/miniconda3/lib/python3.7/site-packages/pgmpy/estimators/CITests.py:95: UserWarning: Insufficient data for testing C _|_ D | ['E', 'A', 'B']. At least 4200 samples recommended, 2500 present.\n",
      "  5 * num_params, len(data)\n",
      "/home/chonghui/miniconda3/lib/python3.7/site-packages/pgmpy/estimators/CITests.py:95: UserWarning: Insufficient data for testing D _|_ B | ['A', 'E', 'C']. At least 4200 samples recommended, 2500 present.\n",
      "  5 * num_params, len(data)\n",
      "/home/chonghui/miniconda3/lib/python3.7/site-packages/pgmpy/estimators/CITests.py:95: UserWarning: Insufficient data for testing E _|_ D | ['B', 'C', 'A']. At least 5670 samples recommended, 2500 present.\n",
      "  5 * num_params, len(data)\n"
     ]
    },
    {
     "name": "stdout",
     "output_type": "stream",
     "text": [
      "+------+---------------------+------+-------------------+------+---------------------+------+---------------------+------+-------+-------+\n",
      "| E    | E(0)                | E(1) | E(2)              | E(3) | E(4)                | E(5) | E(6)                | E(8) | E(10) | E(12) |\n",
      "+------+---------------------+------+-------------------+------+---------------------+------+---------------------+------+-------+-------+\n",
      "| A(0) | 0.08278867102396514 | 0.0  | 0.0               | 0.0  | 0.0                 | 0.0  | 0.0                 | 0.0  | 0.0   | 0.0   |\n",
      "+------+---------------------+------+-------------------+------+---------------------+------+---------------------+------+-------+-------+\n",
      "| A(1) | 0.1056644880174292  | 1.0  | 0.308300395256917 | 0.0  | 0.0                 | 0.0  | 0.0                 | 0.0  | 0.0   | 0.0   |\n",
      "+------+---------------------+------+-------------------+------+---------------------+------+---------------------+------+-------+-------+\n",
      "| A(2) | 0.23529411764705882 | 0.0  | 0.691699604743083 | 0.0  | 0.48333333333333334 | 0.0  | 0.0                 | 0.0  | 0.0   | 0.0   |\n",
      "+------+---------------------+------+-------------------+------+---------------------+------+---------------------+------+-------+-------+\n",
      "| A(3) | 0.23529411764705882 | 0.0  | 0.0               | 1.0  | 0.0                 | 0.0  | 0.8664122137404581  | 0.0  | 0.0   | 0.0   |\n",
      "+------+---------------------+------+-------------------+------+---------------------+------+---------------------+------+-------+-------+\n",
      "| A(4) | 0.20588235294117646 | 0.0  | 0.0               | 0.0  | 0.5166666666666667  | 0.0  | 0.0                 | 1.0  | 0.0   | 0.0   |\n",
      "+------+---------------------+------+-------------------+------+---------------------+------+---------------------+------+-------+-------+\n",
      "| A(5) | 0.10130718954248366 | 0.0  | 0.0               | 0.0  | 0.0                 | 1.0  | 0.0                 | 0.0  | 1.0   | 0.0   |\n",
      "+------+---------------------+------+-------------------+------+---------------------+------+---------------------+------+-------+-------+\n",
      "| A(6) | 0.03376906318082789 | 0.0  | 0.0               | 0.0  | 0.0                 | 0.0  | 0.13358778625954199 | 0.0  | 0.0   | 1.0   |\n",
      "+------+---------------------+------+-------------------+------+---------------------+------+---------------------+------+-------+-------+\n",
      "+------+------+--------------------+---------------------+--------------------+---------------------+--------------------+------+\n",
      "| A    | A(0) | A(1)               | A(2)                | A(3)               | A(4)                | A(5)               | A(6) |\n",
      "+------+------+--------------------+---------------------+--------------------+---------------------+--------------------+------+\n",
      "| C(0) | 1.0  | 0.6714801444043321 | 0.5079646017699115  | 0.2750759878419453 | 0.16062176165803108 | 0.0                | 0.0  |\n",
      "+------+------+--------------------+---------------------+--------------------+---------------------+--------------------+------+\n",
      "| C(1) | 0.0  | 0.3285198555956679 | 0.3309734513274336  | 0.425531914893617  | 0.3333333333333333  | 0.3183673469387755 | 0.0  |\n",
      "+------+------+--------------------+---------------------+--------------------+---------------------+--------------------+------+\n",
      "| C(2) | 0.0  | 0.0                | 0.16106194690265488 | 0.2993920972644377 | 0.5060449050086355  | 0.6816326530612244 | 1.0  |\n",
      "+------+------+--------------------+---------------------+--------------------+---------------------+--------------------+------+\n"
     ]
    }
   ],
   "source": [
    "import pandas as pd\n",
    "import numpy as np\n",
    "from pgmpy.estimators import MmhcEstimator\n",
    "from pgmpy.estimators import BDeuScore\n",
    "from pgmpy.estimators import HillClimbSearch\n",
    "\n",
    "data = pd.DataFrame(np.random.randint(0, 3, size=(2500, 5)), columns=list('ABCDE'))\n",
    "data['A'] += data['B'] + data['C']\n",
    "data['E'] *= data['A']\n",
    "\n",
    "mmhc = MmhcEstimator(data)\n",
    "DAG = mmhc.estimate()\n",
    "from pgmpy.models import BayesianModel\n",
    "model = BayesianModel(DAG.edges)\n",
    "\n",
    "from pgmpy.estimators import MaximumLikelihoodEstimator\n",
    "\n",
    "mle = MaximumLikelihoodEstimator(model, data)\n",
    "print(mle.estimate_cpd('A'))  # unconditional\n",
    "print(mle.estimate_cpd('C'))  # conditional"
   ]
  },
  {
   "cell_type": "code",
   "execution_count": 3,
   "metadata": {},
   "outputs": [
    {
     "data": {
      "text/plain": [
       "0.0"
      ]
     },
     "execution_count": 3,
     "metadata": {},
     "output_type": "execute_result"
    }
   ],
   "source": [
    "from pgmpy.estimators import StructureScore, K2Score, BicScore, BDeuScore\n",
    "#print(StructureScore(data).score(model))\n",
    "BDeuScore(pd.DataFrame([[3,3,3,1,3]], columns=list('ABCDE'))).score(model)"
   ]
  },
  {
   "cell_type": "code",
   "execution_count": 14,
   "metadata": {},
   "outputs": [
    {
     "name": "stderr",
     "output_type": "stream",
     "text": [
      "/home/chonghui/miniconda3/lib/python3.7/site-packages/pgmpy/estimators/CITests.py:95: UserWarning: Insufficient data for testing A _|_ D | ['E']. At least 3900 samples recommended, 2500 present.\n",
      "  5 * num_params, len(data)\n",
      "/home/chonghui/miniconda3/lib/python3.7/site-packages/pgmpy/estimators/CITests.py:95: UserWarning: Insufficient data for testing A _|_ B | ['E', 'D']. At least 8400 samples recommended, 2500 present.\n",
      "  5 * num_params, len(data)\n",
      "/home/chonghui/miniconda3/lib/python3.7/site-packages/pgmpy/estimators/CITests.py:95: UserWarning: Insufficient data for testing A _|_ C | ['E', 'D']. At least 8400 samples recommended, 2500 present.\n",
      "  5 * num_params, len(data)\n",
      "/home/chonghui/miniconda3/lib/python3.7/site-packages/pgmpy/estimators/CITests.py:95: UserWarning: Insufficient data for testing A _|_ C | ['D', 'B']. At least 2520 samples recommended, 2500 present.\n",
      "  5 * num_params, len(data)\n",
      "/home/chonghui/miniconda3/lib/python3.7/site-packages/pgmpy/estimators/CITests.py:95: UserWarning: Insufficient data for testing A _|_ C | ['E', 'D', 'B']. At least 25200 samples recommended, 2500 present.\n",
      "  5 * num_params, len(data)\n",
      "/home/chonghui/miniconda3/lib/python3.7/site-packages/pgmpy/estimators/CITests.py:95: UserWarning: Insufficient data for testing A _|_ E | ['D']. At least 3780 samples recommended, 2500 present.\n",
      "  5 * num_params, len(data)\n",
      "/home/chonghui/miniconda3/lib/python3.7/site-packages/pgmpy/estimators/CITests.py:95: UserWarning: Insufficient data for testing A _|_ E | ['D', 'B']. At least 11340 samples recommended, 2500 present.\n",
      "  5 * num_params, len(data)\n",
      "/home/chonghui/miniconda3/lib/python3.7/site-packages/pgmpy/estimators/CITests.py:95: UserWarning: Insufficient data for testing A _|_ D | ['E', 'B']. At least 11700 samples recommended, 2500 present.\n",
      "  5 * num_params, len(data)\n",
      "/home/chonghui/miniconda3/lib/python3.7/site-packages/pgmpy/estimators/CITests.py:95: UserWarning: Insufficient data for testing B _|_ D | ['A', 'E']. At least 9100 samples recommended, 2500 present.\n",
      "  5 * num_params, len(data)\n",
      "/home/chonghui/miniconda3/lib/python3.7/site-packages/pgmpy/estimators/CITests.py:95: UserWarning: Insufficient data for testing B _|_ C | ['E', 'D']. At least 2800 samples recommended, 2500 present.\n",
      "  5 * num_params, len(data)\n",
      "/home/chonghui/miniconda3/lib/python3.7/site-packages/pgmpy/estimators/CITests.py:95: UserWarning: Insufficient data for testing B _|_ C | ['A', 'E', 'D']. At least 19600 samples recommended, 2500 present.\n",
      "  5 * num_params, len(data)\n",
      "/home/chonghui/miniconda3/lib/python3.7/site-packages/pgmpy/estimators/CITests.py:95: UserWarning: Insufficient data for testing B _|_ A | ['E', 'D']. At least 8400 samples recommended, 2500 present.\n",
      "  5 * num_params, len(data)\n",
      "/home/chonghui/miniconda3/lib/python3.7/site-packages/pgmpy/estimators/CITests.py:95: UserWarning: Insufficient data for testing C _|_ D | ['A', 'E']. At least 9100 samples recommended, 2500 present.\n",
      "  5 * num_params, len(data)\n",
      "/home/chonghui/miniconda3/lib/python3.7/site-packages/pgmpy/estimators/CITests.py:95: UserWarning: Insufficient data for testing C _|_ B | ['E', 'D']. At least 2800 samples recommended, 2500 present.\n",
      "  5 * num_params, len(data)\n",
      "/home/chonghui/miniconda3/lib/python3.7/site-packages/pgmpy/estimators/CITests.py:95: UserWarning: Insufficient data for testing C _|_ B | ['A', 'E', 'D']. At least 19600 samples recommended, 2500 present.\n",
      "  5 * num_params, len(data)\n",
      "/home/chonghui/miniconda3/lib/python3.7/site-packages/pgmpy/estimators/CITests.py:95: UserWarning: Insufficient data for testing C _|_ A | ['E', 'D']. At least 8400 samples recommended, 2500 present.\n",
      "  5 * num_params, len(data)\n",
      "/home/chonghui/miniconda3/lib/python3.7/site-packages/pgmpy/estimators/CITests.py:95: UserWarning: Insufficient data for testing D _|_ A | ['E']. At least 3900 samples recommended, 2500 present.\n",
      "  5 * num_params, len(data)\n",
      "/home/chonghui/miniconda3/lib/python3.7/site-packages/pgmpy/estimators/CITests.py:95: UserWarning: Insufficient data for testing D _|_ B | ['E', 'A']. At least 9100 samples recommended, 2500 present.\n",
      "  5 * num_params, len(data)\n",
      "/home/chonghui/miniconda3/lib/python3.7/site-packages/pgmpy/estimators/CITests.py:95: UserWarning: Insufficient data for testing D _|_ C | ['E', 'A']. At least 9100 samples recommended, 2500 present.\n",
      "  5 * num_params, len(data)\n",
      "/home/chonghui/miniconda3/lib/python3.7/site-packages/pgmpy/estimators/CITests.py:95: UserWarning: Insufficient data for testing D _|_ B | ['E', 'C']. At least 3900 samples recommended, 2500 present.\n",
      "  5 * num_params, len(data)\n",
      "/home/chonghui/miniconda3/lib/python3.7/site-packages/pgmpy/estimators/CITests.py:95: UserWarning: Insufficient data for testing D _|_ B | ['A', 'C']. At least 2730 samples recommended, 2500 present.\n",
      "  5 * num_params, len(data)\n",
      "/home/chonghui/miniconda3/lib/python3.7/site-packages/pgmpy/estimators/CITests.py:95: UserWarning: Insufficient data for testing D _|_ B | ['E', 'A', 'C']. At least 27300 samples recommended, 2500 present.\n",
      "  5 * num_params, len(data)\n",
      "/home/chonghui/miniconda3/lib/python3.7/site-packages/pgmpy/estimators/CITests.py:95: UserWarning: Insufficient data for testing D _|_ E | ['A']. At least 4095 samples recommended, 2500 present.\n",
      "  5 * num_params, len(data)\n",
      "/home/chonghui/miniconda3/lib/python3.7/site-packages/pgmpy/estimators/CITests.py:95: UserWarning: Insufficient data for testing D _|_ E | ['A', 'C']. At least 12285 samples recommended, 2500 present.\n",
      "  5 * num_params, len(data)\n",
      "/home/chonghui/miniconda3/lib/python3.7/site-packages/pgmpy/estimators/CITests.py:95: UserWarning: Insufficient data for testing D _|_ A | ['E', 'C']. At least 11700 samples recommended, 2500 present.\n",
      "  5 * num_params, len(data)\n",
      "/home/chonghui/miniconda3/lib/python3.7/site-packages/pgmpy/estimators/CITests.py:95: UserWarning: Insufficient data for testing E _|_ D | ['A']. At least 4095 samples recommended, 2500 present.\n",
      "  5 * num_params, len(data)\n",
      "/home/chonghui/miniconda3/lib/python3.7/site-packages/pgmpy/estimators/CITests.py:95: UserWarning: Insufficient data for testing E _|_ B | ['A', 'D']. At least 8820 samples recommended, 2500 present.\n",
      "  5 * num_params, len(data)\n",
      "/home/chonghui/miniconda3/lib/python3.7/site-packages/pgmpy/estimators/CITests.py:95: UserWarning: Insufficient data for testing E _|_ C | ['A', 'D']. At least 8820 samples recommended, 2500 present.\n",
      "  5 * num_params, len(data)\n",
      "/home/chonghui/miniconda3/lib/python3.7/site-packages/pgmpy/estimators/CITests.py:95: UserWarning: Insufficient data for testing E _|_ B | ['D', 'C']. At least 3780 samples recommended, 2500 present.\n",
      "  5 * num_params, len(data)\n",
      "/home/chonghui/miniconda3/lib/python3.7/site-packages/pgmpy/estimators/CITests.py:95: UserWarning: Insufficient data for testing E _|_ B | ['A', 'D', 'C']. At least 26460 samples recommended, 2500 present.\n",
      "  5 * num_params, len(data)\n",
      "/home/chonghui/miniconda3/lib/python3.7/site-packages/pgmpy/estimators/CITests.py:95: UserWarning: Insufficient data for testing E _|_ A | ['D']. At least 3780 samples recommended, 2500 present.\n",
      "  5 * num_params, len(data)\n",
      "/home/chonghui/miniconda3/lib/python3.7/site-packages/pgmpy/estimators/CITests.py:95: UserWarning: Insufficient data for testing E _|_ A | ['D', 'C']. At least 11340 samples recommended, 2500 present.\n",
      "  5 * num_params, len(data)\n"
     ]
    }
   ],
   "source": [
    "import pandas as pd\n",
    "import numpy as np\n",
    "from pgmpy.estimators import MmhcEstimator\n",
    "from pgmpy.estimators import BDeuScore\n",
    "from pgmpy.estimators import HillClimbSearch\n",
    "\n",
    "data = pd.DataFrame(np.random.randint(0, 3, size=(2500, 5)), columns=list('ABCDE'))\n",
    "data['A'] += data['B'] + data['C']\n",
    "data['E'] *= data['A']\n",
    "data['D'] = data['E'] + data['C']\n",
    "\n",
    "mmhc = MmhcEstimator(data)\n",
    "DAG = mmhc.estimate()"
   ]
  },
  {
   "cell_type": "code",
   "execution_count": 19,
   "metadata": {},
   "outputs": [
    {
     "name": "stdout",
     "output_type": "stream",
     "text": [
      "[<TabularCPD representing P(A:7) at 0x7fdfc16c26d0>, <TabularCPD representing P(D:14 | A:7, C:3) at 0x7fdfbe1e7b50>, <TabularCPD representing P(B:3 | A:7) at 0x7fdfbe1e7f10>, <TabularCPD representing P(C:3) at 0x7fdfc00c8650>, <TabularCPD representing P(E:10 | C:3, D:14) at 0x7fdfc082d490>]\n"
     ]
    }
   ],
   "source": [
    "from pgmpy.estimators import MaximumLikelihoodEstimator, BayesianEstimator\n",
    "from pgmpy.models import BayesianModel\n",
    "\n",
    "model = BayesianModel(DAG.edges)\n",
    "model.fit(data, estimator=BayesianEstimator)\n",
    "print(model.cpds)"
   ]
  },
  {
   "cell_type": "code",
   "execution_count": 30,
   "metadata": {},
   "outputs": [
    {
     "data": {
      "text/html": [
       "<div>\n",
       "<style scoped>\n",
       "    .dataframe tbody tr th:only-of-type {\n",
       "        vertical-align: middle;\n",
       "    }\n",
       "\n",
       "    .dataframe tbody tr th {\n",
       "        vertical-align: top;\n",
       "    }\n",
       "\n",
       "    .dataframe thead th {\n",
       "        text-align: right;\n",
       "    }\n",
       "</style>\n",
       "<table border=\"1\" class=\"dataframe\">\n",
       "  <thead>\n",
       "    <tr style=\"text-align: right;\">\n",
       "      <th></th>\n",
       "      <th>E_0</th>\n",
       "      <th>E_1</th>\n",
       "      <th>E_2</th>\n",
       "      <th>E_3</th>\n",
       "      <th>E_4</th>\n",
       "      <th>E_5</th>\n",
       "      <th>E_6</th>\n",
       "      <th>E_8</th>\n",
       "      <th>E_10</th>\n",
       "      <th>E_12</th>\n",
       "    </tr>\n",
       "  </thead>\n",
       "  <tbody>\n",
       "    <tr>\n",
       "      <th>0</th>\n",
       "      <td>0.1</td>\n",
       "      <td>0.1</td>\n",
       "      <td>0.1</td>\n",
       "      <td>0.1</td>\n",
       "      <td>0.1</td>\n",
       "      <td>0.1</td>\n",
       "      <td>0.1</td>\n",
       "      <td>0.1</td>\n",
       "      <td>0.1</td>\n",
       "      <td>0.1</td>\n",
       "    </tr>\n",
       "  </tbody>\n",
       "</table>\n",
       "</div>"
      ],
      "text/plain": [
       "   E_0  E_1  E_2  E_3  E_4  E_5  E_6  E_8  E_10  E_12\n",
       "0  0.1  0.1  0.1  0.1  0.1  0.1  0.1  0.1   0.1   0.1"
      ]
     },
     "execution_count": 30,
     "metadata": {},
     "output_type": "execute_result"
    }
   ],
   "source": [
    "test_data = pd.DataFrame(np.random.randint(0, 3, size=(1, 5)), columns=list('ABCDE'))\n",
    "test_data.drop('E', axis=1, inplace=True)\n",
    "model.predict_probability(test_data)"
   ]
  },
  {
   "cell_type": "code",
   "execution_count": 39,
   "metadata": {},
   "outputs": [
    {
     "data": {
      "image/png": "[encoded data removed]",
      "text/plain": [
       "<Figure size 432x288 with 1 Axes>"
      ]
     },
     "metadata": {},
     "output_type": "display_data"
    }
   ],
   "source": [
    "from pgmpy.models import BayesianModel\n",
    "import networkx as nx\n",
    "import pylab as plt\n",
    "nx.draw(model, with_labels=True)"
   ]
  },
  {
   "cell_type": "code",
   "execution_count": null,
   "metadata": {},
   "outputs": [],
   "source": []
  }
 ],
 "metadata": {
  "kernelspec": {
   "display_name": "Python 3",
   "language": "python",
   "name": "python3"
  },
  "language_info": {
   "codemirror_mode": {
    "name": "ipython",
    "version": 3
   },
   "file_extension": ".py",
   "mimetype": "text/x-python",
   "name": "python",
   "nbconvert_exporter": "python",
   "pygments_lexer": "ipython3",
   "version": "3.7.7"
  }
 },
 "nbformat": 4,
 "nbformat_minor": 4
}
