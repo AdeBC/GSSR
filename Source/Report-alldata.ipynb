{
 "cells": [
  {
   "cell_type": "markdown",
   "metadata": {},
   "source": [
    "# GSSR\n",
    "Gene Splice Site Recognition by WAM, Bayesian Network and SVM approaches"
   ]
  },
  {
   "cell_type": "markdown",
   "metadata": {},
   "source": [
    "## Abstract\n",
    "xxx"
   ]
  },
  {
   "cell_type": "markdown",
   "metadata": {},
   "source": [
    "## Introduction"
   ]
  },
  {
   "cell_type": "markdown",
   "metadata": {},
   "source": [
    "### Gene splice site\n",
    "\n",
    "https://en.wikipedia.org/wiki/RNA_splicing\n",
    "\n",
    "RNA splicing, in molecular biology, is a form of RNA processing in which a newly made precursor messenger RNA (pre-mRNA) transcript is transformed into a mature messenger RNA (mRNA). During splicing, introns (Non-coding regions) are removed and exons (Coding Regions) are joined together. For nuclear-encoded genes, splicing takes place within the nucleus either during or immediately after transcription. For those eukaryotic genes that contain introns, splicing is usually required in order to create an mRNA molecule that can be translated into protein. For many eukaryotic introns, splicing is carried out in a series of reactions which are catalyzed by the spliceosome, a complex of small nuclear ribonucleo proteins (snRNPs). Self-splicing introns, or ribozymes capable of catalyzing their own excision from their parent RNA molecule, also exist."
   ]
  },
  {
   "cell_type": "markdown",
   "metadata": {},
   "source": [
    "### Models\n",
    "\n",
    "https://academic.oup.com/bioinformatics/article-abstract/9/5/499/349215?redirectedFrom=PDF\n",
    "\n",
    "https://bmcbioinformatics.biomedcentral.com/articles/10.1186/1471-2105-9-477\n",
    "\n",
    "https://bmcbioinformatics.biomedcentral.com/articles/10.1186/1471-2105-8-S10-S7\n",
    "\n",
    "and others"
   ]
  },
  {
   "cell_type": "markdown",
   "metadata": {},
   "source": [
    "### Scikit-learn and Pgmpy\n",
    "\n",
    "introductions of Scipy and Pgmpy"
   ]
  },
  {
   "cell_type": "markdown",
   "metadata": {},
   "source": [
    "## Material and Method"
   ]
  },
  {
   "cell_type": "markdown",
   "metadata": {},
   "source": [
    "### Environment"
   ]
  },
  {
   "cell_type": "code",
   "execution_count": 1,
   "metadata": {},
   "outputs": [
    {
     "name": "stdout",
     "output_type": "stream",
     "text": [
      "importing Jupyter notebook from Utils.ipynb\n",
      "importing Jupyter notebook from Models.ipynb\n",
      "importing Jupyter notebook from Evaluator.ipynb\n"
     ]
    }
   ],
   "source": [
    "import warnings\n",
    "import import_ipynb\n",
    "import numpy as np\n",
    "import pandas as pd\n",
    "import networkx as nx\n",
    "from Utils import load_data\n",
    "from Models import WAM, BN, SVM\n",
    "from Evaluator import Evaluator\n",
    "from matplotlib import pyplot as plt\n",
    "from IPython.display import display, Markdown\n",
    "from pgmpy.estimators import MmhcEstimator, ConstraintBasedEstimator\n",
    "\n",
    "warnings.filterwarnings(\"ignore\")\n",
    "training_set, testing_set = load_data()"
   ]
  },
  {
   "cell_type": "markdown",
   "metadata": {},
   "source": [
    "### Data curation"
   ]
  },
  {
   "cell_type": "markdown",
   "metadata": {},
   "source": [
    "### Encoding for features\n",
    "\n",
    "When encoding the sequence features to be numeric, a One-hot encoder were used. And to make the problem simpler, the ambiguous bases in sequences were disgarded. A simple example is that when deeling with sequence A, which can be represented as $acgtay^* aaccggttr^* y^* $, the ambiguous bases $y^*$ and $r^*$ are simply disgarded. So the sequence A becomes $acgtaaaccggtt$. And next, a One-hot encoder are used to encode sequence A to a numeric feature vector, which can be represented as $[1,0,0,0...0,0,0,1]$. In all of my experiments, I used 10 bases before and after the site to be tested, including its own sequence with a total length of 21."
   ]
  },
  {
   "cell_type": "markdown",
   "metadata": {},
   "source": [
    "### Model implements\n",
    "\n",
    "The 3 models are mainly implemented using Python. Besides, the Bayesian network model and Support vector machine were implemented based on Pgmpy and Scikit-learn pacakge. The 3 models are designed to be *[put into practical use]* as much as possible. They contain several very easy-to-use program interfaces: `fit`, `predict_probas`, `predict_scores` and `predict_classes`. For all 3 models, the `fit` method are used for training, and the other 3 `predict` methods are used for prediction. The `predict_probas` are used for predicting the probabilities each sample belonging to each class, the `predict_scores` are used for calculating the $S(X)$, and the `predict_classes` are used for predicting the classes each sample belongs, this is simply done by comparing the $S(X)$ and given threshold $T$. Most importantly, the $S(X)$ are calculated by:\n",
    "$$\\tag{1}S(X) = ln(\\frac{P^+ (X)}{P^- {X}})$$"
   ]
  },
  {
   "cell_type": "markdown",
   "metadata": {},
   "source": [
    "#### Stratagies for WAM to perform recognition\n",
    "\n",
    "When recoginizing Gene Splice Site, the 3 steps were mainly used to determine the potential of each sample being a splice site. Firstly, Laplace Pseudocounts are used to [...]. Secondly, the weights of positive and negative submodels, which are the frequencies of adjacent base pairs in WAM, are calculated using the following formula.\n",
    "$$\\tag{2} f(x) = \\frac{C_{x,p}+C_p}{N},x \\in [aa,ac,ag,...tt]$$ where $N$ is the total number of samples. $C_{x,p}$ is the total number of specific adjacent base pairs occuring at position $p-l+1...p$ in all samples. $C_p$ is the pseudocount, and $l$ is the length of array considered, which refers to the range of dependence between adjacent base pairs considered in experiments. And finally, the potential of new samples being a donor site can be easily calculated by\n",
    "$$\\tag{3} S(X) = ln(\\frac{P^+(X)}{P^-(X)}) = \\sum_{x=2}^{L}{ln(\\frac{f^+(x)}{f^-(x)})}$$\n",
    "where $L$ is the length of input sequence.\n",
    "Most importantly, $l$ and $C_p$ are set to $2$ and $0.5$ respectively. "
   ]
  },
  {
   "cell_type": "markdown",
   "metadata": {},
   "source": [
    "#### Stratagies for BN to learn structures and parameters from data\n",
    "\n",
    "The min max hill climb (MMHC) algorithm *[REF]* were mainly used to learn BN structures from the training data. MMHC algorithm is a constrained-based learning algorithm, firstly be proposed by *[AUTHOR]*. *[ details of MMHC algorithm]*"
   ]
  },
  {
   "cell_type": "markdown",
   "metadata": {},
   "source": [
    "#### Settings for SVM to classify splice sites\n",
    "\n",
    "In the experiment, Gaussian Kernel function (see below) were used to map vectors to higher-dimensional feature space. The 惩罚系数 $C$ are used to .... And the key parameter $\\gamma$ for Gaussian Kernel are set to [real gamma].\n",
    "$$\\tag{4}K(x_i, x_j) = exp(-\\gamma||x_i - x_j||^2), \\gamma > 0$$"
   ]
  },
  {
   "cell_type": "code",
   "execution_count": 2,
   "metadata": {},
   "outputs": [],
   "source": [
    "class Model:\n",
    "    \n",
    "    def __init__(self):\n",
    "        self.wam = WAM()\n",
    "        self.bn = BN(struc_estr=ConstraintBasedEstimator)\n",
    "        self.svm = SVM(kernel='rbf', gamma='scale', random_state=1, probability=True, verbose=True)\n",
    "        \n",
    "model = Model()"
   ]
  },
  {
   "cell_type": "markdown",
   "metadata": {},
   "source": [
    "### Evaluation\n",
    "\n",
    "To visualize and compare classification results of 3 models, the ROC Curves and Sn-Sp Curves are plotted using matplotlib package. To realize this, a sample-based benchmarking method is introduced."
   ]
  },
  {
   "cell_type": "markdown",
   "metadata": {},
   "source": [
    "$$ \n",
    "\\begin{align} \n",
    "TP_t = \\sum_{i\\in S_{TP,t}} 1, \\quad S_{TP,t}& =\\{i\\mid S_i\\geq t \\land L_i = 1\\} \\tag{} \\\\\n",
    "FP_t = \\sum_{i\\in S_{FP,t}} 1, \\quad S_{FP,t}& =\\{i\\mid S_i\\geq t \\land L_i = 0\\} \\tag{} \\\\\n",
    "TN_t = \\sum_{i\\in S_{TN,t}} 1, \\quad S_{TN,t}& =\\{i\\mid S_i< t \\land L_i = 0\\} \\tag{} \\\\\n",
    "FN_t = \\sum_{i\\in S_{FN,t}} 1, \\quad S_{FN,t}& =\\{i\\mid S_i< t \\land L_i = 1\\} \\tag{} \\\\\n",
    "\\end{align}\n",
    "$$\n",
    "$$\n",
    "\\begin{align} \n",
    "TPR_t & = \\frac{TP_t}{TP_t+FN_t} \\tag{} \\\\\n",
    "FPR_t & = \\frac{FP_t}{FP_t+TN_t} \\tag{} \\\\\n",
    "Sn_t & = \\frac{TP_t}{TP_t+FN_t} \\tag{} \\\\\n",
    "Sp_t & = \\frac{TN_t}{TN_t+FP_t} \\tag{} \\\\\n",
    "\\end{align}\n",
    "$$\n",
    "\n",
    "where $ $ is ...... Finally, the ROC_AUC ( area under the ROC curve) were calculated using Composite Trapezoidal rule [ref]\n",
    "\n",
    "$$\n",
    "AUC = \\sum_{i=1}^N \\frac{(FPR_{i+1} - FPR_i)(TPR_i+TPR_{i+1})}{2} \\tag{} \\\\\n",
    "$$\n",
    "\n",
    "https://github.com/scikit-learn/scikit-learn/blob/fd237278e/sklearn/metrics/_ranking.py#L42\n",
    "\n",
    "https://docs.scipy.org/doc/numpy-1.10.0/reference/generated/numpy.trapz.html\n",
    "\n",
    "https://github.com/numpy/numpy/blob/v1.16.2/numpy/lib/function_base.py#L3982-L4070\n"
   ]
  },
  {
   "cell_type": "markdown",
   "metadata": {},
   "source": [
    "## Result and Discussion"
   ]
  },
  {
   "cell_type": "markdown",
   "metadata": {},
   "source": [
    "### Weights for WAM"
   ]
  },
  {
   "cell_type": "code",
   "execution_count": 3,
   "metadata": {},
   "outputs": [
    {
     "name": "stderr",
     "output_type": "stream",
     "text": [
      "processing...:  62%|██████▎   | 10/16 [00:00<00:00, 21.11it/s]"
     ]
    },
    {
     "name": "stdout",
     "output_type": "stream",
     "text": [
      "Fitting model with positive data...\n"
     ]
    },
    {
     "name": "stderr",
     "output_type": "stream",
     "text": [
      "processing...: 100%|██████████| 16/16 [00:00<00:00, 39.72it/s]\n",
      "processing...:   0%|          | 0/16 [00:00<?, ?it/s]"
     ]
    },
    {
     "name": "stdout",
     "output_type": "stream",
     "text": [
      "Fitting model with negative data...\n"
     ]
    },
    {
     "name": "stderr",
     "output_type": "stream",
     "text": [
      "processing...: 100%|██████████| 16/16 [04:36<00:00, 17.26s/it]\n"
     ]
    }
   ],
   "source": [
    "#display(training_set)\n",
    "model.wam.fit(training_set['Seq. features'], training_set['IsDonor'])\n",
    "pd.set_option('display.max_columns', None)\n",
    "p_rename = lambda x: 'P.{}'.format(x)\n",
    "n_rename = lambda x: 'N.{}'.format(x)"
   ]
  },
  {
   "cell_type": "code",
   "execution_count": 4,
   "metadata": {},
   "outputs": [
    {
     "data": {
      "text/markdown": [
       "<h3 align=\"center\">Weights for Weighted array model (Positive / Negative)</h3>"
      ],
      "text/plain": [
       "<IPython.core.display.Markdown object>"
      ]
     },
     "metadata": {},
     "output_type": "display_data"
    },
    {
     "data": {
      "text/html": [
       "<div>\n",
       "<style scoped>\n",
       "    .dataframe tbody tr th:only-of-type {\n",
       "        vertical-align: middle;\n",
       "    }\n",
       "\n",
       "    .dataframe tbody tr th {\n",
       "        vertical-align: top;\n",
       "    }\n",
       "\n",
       "    .dataframe thead th {\n",
       "        text-align: right;\n",
       "    }\n",
       "</style>\n",
       "<table border=\"1\" class=\"dataframe\">\n",
       "  <thead>\n",
       "    <tr style=\"text-align: right;\">\n",
       "      <th></th>\n",
       "      <th>AA</th>\n",
       "      <th>AC</th>\n",
       "      <th>AG</th>\n",
       "      <th>AT</th>\n",
       "      <th>CA</th>\n",
       "      <th>CC</th>\n",
       "      <th>CG</th>\n",
       "      <th>CT</th>\n",
       "      <th>GA</th>\n",
       "      <th>GC</th>\n",
       "      <th>GG</th>\n",
       "      <th>GT</th>\n",
       "      <th>TA</th>\n",
       "      <th>TC</th>\n",
       "      <th>TG</th>\n",
       "      <th>TT</th>\n",
       "    </tr>\n",
       "  </thead>\n",
       "  <tbody>\n",
       "    <tr>\n",
       "      <th>0</th>\n",
       "      <td>nan/nan</td>\n",
       "      <td>nan/nan</td>\n",
       "      <td>nan/nan</td>\n",
       "      <td>nan/nan</td>\n",
       "      <td>nan/nan</td>\n",
       "      <td>nan/nan</td>\n",
       "      <td>nan/nan</td>\n",
       "      <td>nan/nan</td>\n",
       "      <td>nan/nan</td>\n",
       "      <td>nan/nan</td>\n",
       "      <td>nan/nan</td>\n",
       "      <td>nan/nan</td>\n",
       "      <td>nan/nan</td>\n",
       "      <td>nan/nan</td>\n",
       "      <td>nan/nan</td>\n",
       "      <td>nan/nan</td>\n",
       "    </tr>\n",
       "    <tr>\n",
       "      <th>1</th>\n",
       "      <td>nan/nan</td>\n",
       "      <td>nan/nan</td>\n",
       "      <td>nan/nan</td>\n",
       "      <td>nan/nan</td>\n",
       "      <td>nan/nan</td>\n",
       "      <td>nan/nan</td>\n",
       "      <td>nan/nan</td>\n",
       "      <td>nan/nan</td>\n",
       "      <td>nan/nan</td>\n",
       "      <td>nan/nan</td>\n",
       "      <td>nan/nan</td>\n",
       "      <td>nan/nan</td>\n",
       "      <td>nan/nan</td>\n",
       "      <td>nan/nan</td>\n",
       "      <td>nan/nan</td>\n",
       "      <td>nan/nan</td>\n",
       "    </tr>\n",
       "    <tr>\n",
       "      <th>2</th>\n",
       "      <td>0.056/0.068</td>\n",
       "      <td>0.048/0.052</td>\n",
       "      <td>0.031/0.051</td>\n",
       "      <td>0.063/0.051</td>\n",
       "      <td>0.086/0.050</td>\n",
       "      <td>0.115/0.068</td>\n",
       "      <td>0.056/0.051</td>\n",
       "      <td>0.060/0.053</td>\n",
       "      <td>0.067/0.051</td>\n",
       "      <td>0.069/0.051</td>\n",
       "      <td>0.046/0.066</td>\n",
       "      <td>0.036/0.053</td>\n",
       "      <td>0.034/0.052</td>\n",
       "      <td>0.068/0.054</td>\n",
       "      <td>0.043/0.051</td>\n",
       "      <td>0.078/0.070</td>\n",
       "    </tr>\n",
       "    <tr>\n",
       "      <th>3</th>\n",
       "      <td>0.092/0.050</td>\n",
       "      <td>0.076/0.057</td>\n",
       "      <td>0.037/0.055</td>\n",
       "      <td>0.075/0.057</td>\n",
       "      <td>0.066/0.056</td>\n",
       "      <td>0.069/0.052</td>\n",
       "      <td>0.072/0.058</td>\n",
       "      <td>0.076/0.059</td>\n",
       "      <td>0.058/0.056</td>\n",
       "      <td>0.072/0.057</td>\n",
       "      <td>0.027/0.050</td>\n",
       "      <td>0.021/0.057</td>\n",
       "      <td>0.057/0.057</td>\n",
       "      <td>0.069/0.060</td>\n",
       "      <td>0.044/0.056</td>\n",
       "      <td>0.062/0.051</td>\n",
       "    </tr>\n",
       "    <tr>\n",
       "      <th>4</th>\n",
       "      <td>0.036/0.056</td>\n",
       "      <td>0.136/0.054</td>\n",
       "      <td>0.050/0.055</td>\n",
       "      <td>0.075/0.055</td>\n",
       "      <td>0.064/0.055</td>\n",
       "      <td>0.088/0.057</td>\n",
       "      <td>0.066/0.057</td>\n",
       "      <td>0.082/0.057</td>\n",
       "      <td>0.048/0.054</td>\n",
       "      <td>0.072/0.055</td>\n",
       "      <td>0.034/0.054</td>\n",
       "      <td>0.019/0.054</td>\n",
       "      <td>0.031/0.055</td>\n",
       "      <td>0.067/0.058</td>\n",
       "      <td>0.047/0.055</td>\n",
       "      <td>0.058/0.058</td>\n",
       "    </tr>\n",
       "    <tr>\n",
       "      <th>5</th>\n",
       "      <td>0.042/0.054</td>\n",
       "      <td>0.066/0.055</td>\n",
       "      <td>0.034/0.055</td>\n",
       "      <td>0.057/0.056</td>\n",
       "      <td>0.072/0.055</td>\n",
       "      <td>0.089/0.057</td>\n",
       "      <td>0.081/0.057</td>\n",
       "      <td>0.112/0.057</td>\n",
       "      <td>0.061/0.056</td>\n",
       "      <td>0.060/0.055</td>\n",
       "      <td>0.040/0.055</td>\n",
       "      <td>0.030/0.055</td>\n",
       "      <td>0.029/0.054</td>\n",
       "      <td>0.074/0.058</td>\n",
       "      <td>0.060/0.055</td>\n",
       "      <td>0.047/0.056</td>\n",
       "    </tr>\n",
       "    <tr>\n",
       "      <th>6</th>\n",
       "      <td>0.064/0.056</td>\n",
       "      <td>0.056/0.055</td>\n",
       "      <td>0.033/0.053</td>\n",
       "      <td>0.081/0.055</td>\n",
       "      <td>0.092/0.057</td>\n",
       "      <td>0.059/0.056</td>\n",
       "      <td>0.061/0.058</td>\n",
       "      <td>0.068/0.055</td>\n",
       "      <td>0.056/0.055</td>\n",
       "      <td>0.077/0.055</td>\n",
       "      <td>0.045/0.055</td>\n",
       "      <td>0.021/0.054</td>\n",
       "      <td>0.031/0.058</td>\n",
       "      <td>0.064/0.057</td>\n",
       "      <td>0.042/0.056</td>\n",
       "      <td>0.139/0.054</td>\n",
       "    </tr>\n",
       "    <tr>\n",
       "      <th>7</th>\n",
       "      <td>0.042/0.055</td>\n",
       "      <td>0.123/0.061</td>\n",
       "      <td>0.045/0.055</td>\n",
       "      <td>0.060/0.056</td>\n",
       "      <td>0.077/0.056</td>\n",
       "      <td>0.085/0.055</td>\n",
       "      <td>0.049/0.054</td>\n",
       "      <td>0.050/0.056</td>\n",
       "      <td>0.049/0.054</td>\n",
       "      <td>0.075/0.057</td>\n",
       "      <td>0.029/0.053</td>\n",
       "      <td>0.020/0.057</td>\n",
       "      <td>0.039/0.055</td>\n",
       "      <td>0.126/0.056</td>\n",
       "      <td>0.054/0.054</td>\n",
       "      <td>0.043/0.055</td>\n",
       "    </tr>\n",
       "    <tr>\n",
       "      <th>8</th>\n",
       "      <td>0.050/0.055</td>\n",
       "      <td>0.089/0.055</td>\n",
       "      <td>0.030/0.055</td>\n",
       "      <td>0.076/0.055</td>\n",
       "      <td>0.101/0.065</td>\n",
       "      <td>0.066/0.053</td>\n",
       "      <td>0.039/0.054</td>\n",
       "      <td>0.137/0.054</td>\n",
       "      <td>0.056/0.054</td>\n",
       "      <td>0.084/0.054</td>\n",
       "      <td>0.020/0.054</td>\n",
       "      <td>0.041/0.054</td>\n",
       "      <td>0.020/0.060</td>\n",
       "      <td>0.068/0.054</td>\n",
       "      <td>0.026/0.055</td>\n",
       "      <td>0.061/0.055</td>\n",
       "    </tr>\n",
       "    <tr>\n",
       "      <th>9</th>\n",
       "      <td>0.120/0.054</td>\n",
       "      <td>0.030/0.054</td>\n",
       "      <td>0.024/0.069</td>\n",
       "      <td>0.053/0.055</td>\n",
       "      <td>0.168/0.054</td>\n",
       "      <td>0.035/0.055</td>\n",
       "      <td>0.046/0.052</td>\n",
       "      <td>0.036/0.054</td>\n",
       "      <td>0.073/0.056</td>\n",
       "      <td>0.024/0.055</td>\n",
       "      <td>0.009/0.054</td>\n",
       "      <td>0.008/0.054</td>\n",
       "      <td>0.134/0.055</td>\n",
       "      <td>0.027/0.054</td>\n",
       "      <td>0.078/0.056</td>\n",
       "      <td>0.038/0.053</td>\n",
       "    </tr>\n",
       "    <tr>\n",
       "      <th>10</th>\n",
       "      <td>0.085/0.056</td>\n",
       "      <td>0.009/0.053</td>\n",
       "      <td>0.220/0.053</td>\n",
       "      <td>0.041/0.054</td>\n",
       "      <td>0.015/0.056</td>\n",
       "      <td>0.005/0.054</td>\n",
       "      <td>0.150/0.052</td>\n",
       "      <td>0.015/0.055</td>\n",
       "      <td>0.079/0.059</td>\n",
       "      <td>0.002/0.058</td>\n",
       "      <td>0.052/0.063</td>\n",
       "      <td>0.005/0.057</td>\n",
       "      <td>0.002/0.055</td>\n",
       "      <td>0.005/0.054</td>\n",
       "      <td>0.060/0.055</td>\n",
       "      <td>0.006/0.053</td>\n",
       "    </tr>\n",
       "    <tr>\n",
       "      <th>11</th>\n",
       "      <td>0.024/0.055</td>\n",
       "      <td>0.027/0.057</td>\n",
       "      <td>0.075/0.054</td>\n",
       "      <td>0.033/0.061</td>\n",
       "      <td>0.000/0.054</td>\n",
       "      <td>0.000/0.054</td>\n",
       "      <td>0.050/0.057</td>\n",
       "      <td>0.000/0.056</td>\n",
       "      <td>0.012/0.056</td>\n",
       "      <td>0.008/0.056</td>\n",
       "      <td>0.423/0.053</td>\n",
       "      <td>0.004/0.059</td>\n",
       "      <td>0.000/0.054</td>\n",
       "      <td>0.000/0.053</td>\n",
       "      <td>0.042/0.055</td>\n",
       "      <td>0.000/0.055</td>\n",
       "    </tr>\n",
       "    <tr>\n",
       "      <th>12</th>\n",
       "      <td>0.006/0.054</td>\n",
       "      <td>0.018/0.057</td>\n",
       "      <td>0.010/0.055</td>\n",
       "      <td>0.019/0.054</td>\n",
       "      <td>0.006/0.054</td>\n",
       "      <td>0.010/0.054</td>\n",
       "      <td>0.005/0.056</td>\n",
       "      <td>0.011/0.055</td>\n",
       "      <td>0.014/0.054</td>\n",
       "      <td>0.035/0.057</td>\n",
       "      <td>0.012/0.054</td>\n",
       "      <td>0.472/0.054</td>\n",
       "      <td>0.005/0.059</td>\n",
       "      <td>0.003/0.056</td>\n",
       "      <td>0.008/0.060</td>\n",
       "      <td>0.012/0.055</td>\n",
       "    </tr>\n",
       "    <tr>\n",
       "      <th>13</th>\n",
       "      <td>0.007/0.055</td>\n",
       "      <td>0.015/0.056</td>\n",
       "      <td>0.006/0.055</td>\n",
       "      <td>0.016/0.056</td>\n",
       "      <td>0.009/0.056</td>\n",
       "      <td>0.022/0.055</td>\n",
       "      <td>0.016/0.057</td>\n",
       "      <td>0.021/0.056</td>\n",
       "      <td>0.011/0.058</td>\n",
       "      <td>0.016/0.055</td>\n",
       "      <td>0.008/0.057</td>\n",
       "      <td>0.008/0.055</td>\n",
       "      <td>0.405/0.054</td>\n",
       "      <td>0.043/0.056</td>\n",
       "      <td>0.218/0.054</td>\n",
       "      <td>0.058/0.054</td>\n",
       "    </tr>\n",
       "    <tr>\n",
       "      <th>14</th>\n",
       "      <td>0.238/0.055</td>\n",
       "      <td>0.061/0.056</td>\n",
       "      <td>0.030/0.057</td>\n",
       "      <td>0.084/0.055</td>\n",
       "      <td>0.024/0.056</td>\n",
       "      <td>0.022/0.054</td>\n",
       "      <td>0.017/0.055</td>\n",
       "      <td>0.023/0.056</td>\n",
       "      <td>0.208/0.055</td>\n",
       "      <td>0.044/0.057</td>\n",
       "      <td>0.025/0.053</td>\n",
       "      <td>0.012/0.057</td>\n",
       "      <td>0.019/0.056</td>\n",
       "      <td>0.028/0.054</td>\n",
       "      <td>0.017/0.056</td>\n",
       "      <td>0.014/0.056</td>\n",
       "    </tr>\n",
       "    <tr>\n",
       "      <th>15</th>\n",
       "      <td>0.013/0.055</td>\n",
       "      <td>0.030/0.057</td>\n",
       "      <td>0.264/0.056</td>\n",
       "      <td>0.042/0.055</td>\n",
       "      <td>0.027/0.055</td>\n",
       "      <td>0.053/0.055</td>\n",
       "      <td>0.094/0.056</td>\n",
       "      <td>0.031/0.056</td>\n",
       "      <td>0.012/0.056</td>\n",
       "      <td>0.015/0.056</td>\n",
       "      <td>0.045/0.055</td>\n",
       "      <td>0.008/0.055</td>\n",
       "      <td>0.009/0.054</td>\n",
       "      <td>0.036/0.055</td>\n",
       "      <td>0.043/0.058</td>\n",
       "      <td>0.020/0.054</td>\n",
       "    </tr>\n",
       "    <tr>\n",
       "      <th>16</th>\n",
       "      <td>0.015/0.055</td>\n",
       "      <td>0.028/0.054</td>\n",
       "      <td>0.017/0.056</td>\n",
       "      <td>0.031/0.056</td>\n",
       "      <td>0.025/0.056</td>\n",
       "      <td>0.029/0.056</td>\n",
       "      <td>0.021/0.056</td>\n",
       "      <td>0.039/0.055</td>\n",
       "      <td>0.076/0.056</td>\n",
       "      <td>0.126/0.056</td>\n",
       "      <td>0.068/0.056</td>\n",
       "      <td>0.220/0.056</td>\n",
       "      <td>0.011/0.056</td>\n",
       "      <td>0.026/0.055</td>\n",
       "      <td>0.019/0.055</td>\n",
       "      <td>0.034/0.054</td>\n",
       "    </tr>\n",
       "    <tr>\n",
       "      <th>17</th>\n",
       "      <td>0.035/0.056</td>\n",
       "      <td>0.043/0.056</td>\n",
       "      <td>0.029/0.056</td>\n",
       "      <td>0.039/0.055</td>\n",
       "      <td>0.055/0.055</td>\n",
       "      <td>0.064/0.055</td>\n",
       "      <td>0.055/0.057</td>\n",
       "      <td>0.061/0.055</td>\n",
       "      <td>0.036/0.056</td>\n",
       "      <td>0.055/0.056</td>\n",
       "      <td>0.018/0.055</td>\n",
       "      <td>0.018/0.056</td>\n",
       "      <td>0.106/0.055</td>\n",
       "      <td>0.113/0.055</td>\n",
       "      <td>0.105/0.057</td>\n",
       "      <td>0.155/0.055</td>\n",
       "    </tr>\n",
       "    <tr>\n",
       "      <th>18</th>\n",
       "      <td>0.041/0.055</td>\n",
       "      <td>0.085/0.055</td>\n",
       "      <td>0.033/0.056</td>\n",
       "      <td>0.099/0.056</td>\n",
       "      <td>0.042/0.055</td>\n",
       "      <td>0.089/0.056</td>\n",
       "      <td>0.042/0.057</td>\n",
       "      <td>0.085/0.055</td>\n",
       "      <td>0.051/0.056</td>\n",
       "      <td>0.084/0.056</td>\n",
       "      <td>0.061/0.055</td>\n",
       "      <td>0.036/0.057</td>\n",
       "      <td>0.030/0.056</td>\n",
       "      <td>0.077/0.055</td>\n",
       "      <td>0.040/0.056</td>\n",
       "      <td>0.072/0.055</td>\n",
       "    </tr>\n",
       "    <tr>\n",
       "      <th>19</th>\n",
       "      <td>0.035/0.056</td>\n",
       "      <td>0.061/0.055</td>\n",
       "      <td>0.031/0.056</td>\n",
       "      <td>0.058/0.055</td>\n",
       "      <td>0.071/0.055</td>\n",
       "      <td>0.099/0.055</td>\n",
       "      <td>0.080/0.055</td>\n",
       "      <td>0.094/0.056</td>\n",
       "      <td>0.035/0.056</td>\n",
       "      <td>0.082/0.055</td>\n",
       "      <td>0.038/0.057</td>\n",
       "      <td>0.022/0.056</td>\n",
       "      <td>0.039/0.055</td>\n",
       "      <td>0.107/0.055</td>\n",
       "      <td>0.055/0.056</td>\n",
       "      <td>0.103/0.056</td>\n",
       "    </tr>\n",
       "  </tbody>\n",
       "</table>\n",
       "</div>"
      ],
      "text/plain": [
       "             AA           AC           AG           AT           CA  \\\n",
       "0       nan/nan      nan/nan      nan/nan      nan/nan      nan/nan   \n",
       "1       nan/nan      nan/nan      nan/nan      nan/nan      nan/nan   \n",
       "2   0.056/0.068  0.048/0.052  0.031/0.051  0.063/0.051  0.086/0.050   \n",
       "3   0.092/0.050  0.076/0.057  0.037/0.055  0.075/0.057  0.066/0.056   \n",
       "4   0.036/0.056  0.136/0.054  0.050/0.055  0.075/0.055  0.064/0.055   \n",
       "5   0.042/0.054  0.066/0.055  0.034/0.055  0.057/0.056  0.072/0.055   \n",
       "6   0.064/0.056  0.056/0.055  0.033/0.053  0.081/0.055  0.092/0.057   \n",
       "7   0.042/0.055  0.123/0.061  0.045/0.055  0.060/0.056  0.077/0.056   \n",
       "8   0.050/0.055  0.089/0.055  0.030/0.055  0.076/0.055  0.101/0.065   \n",
       "9   0.120/0.054  0.030/0.054  0.024/0.069  0.053/0.055  0.168/0.054   \n",
       "10  0.085/0.056  0.009/0.053  0.220/0.053  0.041/0.054  0.015/0.056   \n",
       "11  0.024/0.055  0.027/0.057  0.075/0.054  0.033/0.061  0.000/0.054   \n",
       "12  0.006/0.054  0.018/0.057  0.010/0.055  0.019/0.054  0.006/0.054   \n",
       "13  0.007/0.055  0.015/0.056  0.006/0.055  0.016/0.056  0.009/0.056   \n",
       "14  0.238/0.055  0.061/0.056  0.030/0.057  0.084/0.055  0.024/0.056   \n",
       "15  0.013/0.055  0.030/0.057  0.264/0.056  0.042/0.055  0.027/0.055   \n",
       "16  0.015/0.055  0.028/0.054  0.017/0.056  0.031/0.056  0.025/0.056   \n",
       "17  0.035/0.056  0.043/0.056  0.029/0.056  0.039/0.055  0.055/0.055   \n",
       "18  0.041/0.055  0.085/0.055  0.033/0.056  0.099/0.056  0.042/0.055   \n",
       "19  0.035/0.056  0.061/0.055  0.031/0.056  0.058/0.055  0.071/0.055   \n",
       "\n",
       "             CC           CG           CT           GA           GC  \\\n",
       "0       nan/nan      nan/nan      nan/nan      nan/nan      nan/nan   \n",
       "1       nan/nan      nan/nan      nan/nan      nan/nan      nan/nan   \n",
       "2   0.115/0.068  0.056/0.051  0.060/0.053  0.067/0.051  0.069/0.051   \n",
       "3   0.069/0.052  0.072/0.058  0.076/0.059  0.058/0.056  0.072/0.057   \n",
       "4   0.088/0.057  0.066/0.057  0.082/0.057  0.048/0.054  0.072/0.055   \n",
       "5   0.089/0.057  0.081/0.057  0.112/0.057  0.061/0.056  0.060/0.055   \n",
       "6   0.059/0.056  0.061/0.058  0.068/0.055  0.056/0.055  0.077/0.055   \n",
       "7   0.085/0.055  0.049/0.054  0.050/0.056  0.049/0.054  0.075/0.057   \n",
       "8   0.066/0.053  0.039/0.054  0.137/0.054  0.056/0.054  0.084/0.054   \n",
       "9   0.035/0.055  0.046/0.052  0.036/0.054  0.073/0.056  0.024/0.055   \n",
       "10  0.005/0.054  0.150/0.052  0.015/0.055  0.079/0.059  0.002/0.058   \n",
       "11  0.000/0.054  0.050/0.057  0.000/0.056  0.012/0.056  0.008/0.056   \n",
       "12  0.010/0.054  0.005/0.056  0.011/0.055  0.014/0.054  0.035/0.057   \n",
       "13  0.022/0.055  0.016/0.057  0.021/0.056  0.011/0.058  0.016/0.055   \n",
       "14  0.022/0.054  0.017/0.055  0.023/0.056  0.208/0.055  0.044/0.057   \n",
       "15  0.053/0.055  0.094/0.056  0.031/0.056  0.012/0.056  0.015/0.056   \n",
       "16  0.029/0.056  0.021/0.056  0.039/0.055  0.076/0.056  0.126/0.056   \n",
       "17  0.064/0.055  0.055/0.057  0.061/0.055  0.036/0.056  0.055/0.056   \n",
       "18  0.089/0.056  0.042/0.057  0.085/0.055  0.051/0.056  0.084/0.056   \n",
       "19  0.099/0.055  0.080/0.055  0.094/0.056  0.035/0.056  0.082/0.055   \n",
       "\n",
       "             GG           GT           TA           TC           TG  \\\n",
       "0       nan/nan      nan/nan      nan/nan      nan/nan      nan/nan   \n",
       "1       nan/nan      nan/nan      nan/nan      nan/nan      nan/nan   \n",
       "2   0.046/0.066  0.036/0.053  0.034/0.052  0.068/0.054  0.043/0.051   \n",
       "3   0.027/0.050  0.021/0.057  0.057/0.057  0.069/0.060  0.044/0.056   \n",
       "4   0.034/0.054  0.019/0.054  0.031/0.055  0.067/0.058  0.047/0.055   \n",
       "5   0.040/0.055  0.030/0.055  0.029/0.054  0.074/0.058  0.060/0.055   \n",
       "6   0.045/0.055  0.021/0.054  0.031/0.058  0.064/0.057  0.042/0.056   \n",
       "7   0.029/0.053  0.020/0.057  0.039/0.055  0.126/0.056  0.054/0.054   \n",
       "8   0.020/0.054  0.041/0.054  0.020/0.060  0.068/0.054  0.026/0.055   \n",
       "9   0.009/0.054  0.008/0.054  0.134/0.055  0.027/0.054  0.078/0.056   \n",
       "10  0.052/0.063  0.005/0.057  0.002/0.055  0.005/0.054  0.060/0.055   \n",
       "11  0.423/0.053  0.004/0.059  0.000/0.054  0.000/0.053  0.042/0.055   \n",
       "12  0.012/0.054  0.472/0.054  0.005/0.059  0.003/0.056  0.008/0.060   \n",
       "13  0.008/0.057  0.008/0.055  0.405/0.054  0.043/0.056  0.218/0.054   \n",
       "14  0.025/0.053  0.012/0.057  0.019/0.056  0.028/0.054  0.017/0.056   \n",
       "15  0.045/0.055  0.008/0.055  0.009/0.054  0.036/0.055  0.043/0.058   \n",
       "16  0.068/0.056  0.220/0.056  0.011/0.056  0.026/0.055  0.019/0.055   \n",
       "17  0.018/0.055  0.018/0.056  0.106/0.055  0.113/0.055  0.105/0.057   \n",
       "18  0.061/0.055  0.036/0.057  0.030/0.056  0.077/0.055  0.040/0.056   \n",
       "19  0.038/0.057  0.022/0.056  0.039/0.055  0.107/0.055  0.055/0.056   \n",
       "\n",
       "             TT  \n",
       "0       nan/nan  \n",
       "1       nan/nan  \n",
       "2   0.078/0.070  \n",
       "3   0.062/0.051  \n",
       "4   0.058/0.058  \n",
       "5   0.047/0.056  \n",
       "6   0.139/0.054  \n",
       "7   0.043/0.055  \n",
       "8   0.061/0.055  \n",
       "9   0.038/0.053  \n",
       "10  0.006/0.053  \n",
       "11  0.000/0.055  \n",
       "12  0.012/0.055  \n",
       "13  0.058/0.054  \n",
       "14  0.014/0.056  \n",
       "15  0.020/0.054  \n",
       "16  0.034/0.054  \n",
       "17  0.155/0.055  \n",
       "18  0.072/0.055  \n",
       "19  0.103/0.056  "
      ]
     },
     "execution_count": 4,
     "metadata": {},
     "output_type": "execute_result"
    }
   ],
   "source": [
    "display(Markdown( '<h3 align=\"center\">Weights for Weighted array model (Positive / Negative)</h3>' ))\n",
    "model.wam.positive_weights.applymap(lambda x: '%.3f'%x) + '/' + \\\n",
    "model.wam.negative_weights.applymap(lambda x: '%.3f'%x)"
   ]
  },
  {
   "cell_type": "code",
   "execution_count": 5,
   "metadata": {},
   "outputs": [],
   "source": [
    "scores_wam = model.wam.predict_scores(testing_set['Seq. features'].apply(str.upper))"
   ]
  },
  {
   "cell_type": "markdown",
   "metadata": {},
   "source": [
    "### Graph for BN"
   ]
  },
  {
   "cell_type": "code",
   "execution_count": null,
   "metadata": {},
   "outputs": [
    {
     "name": "stdout",
     "output_type": "stream",
     "text": [
      "Performing structure learning, using estimator: `<class 'pgmpy.estimators.ConstraintBasedEstimator.ConstraintBasedEstimator'>`\n"
     ]
    }
   ],
   "source": [
    "to_format_arr = lambda data: np.array([np.array(list(i)) for i in data])\n",
    "model.bn.fit(data=to_format_arr(training_set['Seq. features']),\n",
    "             label=training_set['IsDonor'].astype(int), \n",
    "             sign_level=0.01)"
   ]
  },
  {
   "cell_type": "code",
   "execution_count": null,
   "metadata": {},
   "outputs": [],
   "source": [
    "plt.figure(figsize=(4,4), dpi=120)\n",
    "G = model.bn.networks\n",
    "bicolors = ['deepskyblue','salmon']\n",
    "nodesize = np.array([float(G.degree(v) + 1) for v in G])\n",
    "nodecolor = np.array([bicolors[int('label' in i)] for i in G])\n",
    "nx.draw(G, with_labels=True, textsize=10000, pos=nx.spring_layout(G), node_size=nodesize*150,\n",
    "        node_color=nodecolor)"
   ]
  },
  {
   "cell_type": "code",
   "execution_count": null,
   "metadata": {},
   "outputs": [],
   "source": [
    "data = to_format_arr(testing_set['Seq. features'])\n",
    "test_data = pd.DataFrame(data, columns=['F{}'.format(i) for i in range(data.shape[1])])\n",
    "scores_bn = model.bn.predict_scores(test_data)"
   ]
  },
  {
   "cell_type": "markdown",
   "metadata": {},
   "source": [
    "### Graph for SVM"
   ]
  },
  {
   "cell_type": "code",
   "execution_count": null,
   "metadata": {},
   "outputs": [],
   "source": [
    "model.svm.fit(to_format_arr(training_set['Num. features']), training_set['IsDonor'])\n",
    "scores_svm = model.svm.predict_scores(to_format_arr(testing_set['Num. features']))"
   ]
  },
  {
   "cell_type": "code",
   "execution_count": null,
   "metadata": {},
   "outputs": [],
   "source": [
    "arr = to_format_arr(training_set['Num. features'])\n",
    "print(arr.shape)\n",
    "arr"
   ]
  },
  {
   "cell_type": "markdown",
   "metadata": {},
   "source": [
    "### Performance\n",
    "- Table\n",
    "- ROC Sn-Sp Curves"
   ]
  },
  {
   "cell_type": "code",
   "execution_count": null,
   "metadata": {},
   "outputs": [],
   "source": [
    "evaltr = Evaluator(labels=testing_set['IsDonor'], \n",
    "                  wam_scores=scores_wam, \n",
    "                  bn_scores=scores_bn, \n",
    "                  svm_scores=scores_svm)\n",
    "\n",
    "display(evaltr.Cal_Sn_Sp(evaltr.Confusion_table(T_range=np.arange(0, 10, 0.1))['wam_scores']).round(2).T)\n",
    "display(evaltr.Cal_Tpr_Fpr(evaltr.Confusion_table(T_range=np.arange(0, 10, 0.1))['wam_scores']).round(2).T)"
   ]
  },
  {
   "cell_type": "code",
   "execution_count": null,
   "metadata": {},
   "outputs": [],
   "source": [
    "plt.figure(figsize=(10,5), dpi=120)\n",
    "ax1 = plt.subplot(121)\n",
    "evaltr.ROC_Curves(T_range=np.arange(-25, 25, 0.5))\n",
    "ax1 = plt.subplot(122)\n",
    "evaltr.Sn_Sp_Curves(T_range=np.arange(-25, 25, 0.5))"
   ]
  },
  {
   "cell_type": "markdown",
   "metadata": {},
   "source": [
    "### Discussion"
   ]
  },
  {
   "cell_type": "markdown",
   "metadata": {},
   "source": [
    "reintroduce the problem\n",
    "\n",
    "describe results and its importance\n",
    "\n",
    "future research"
   ]
  },
  {
   "cell_type": "code",
   "execution_count": null,
   "metadata": {},
   "outputs": [],
   "source": []
  }
 ],
 "metadata": {
  "kernelspec": {
   "display_name": "Python 3",
   "language": "python",
   "name": "python3"
  },
  "language_info": {
   "codemirror_mode": {
    "name": "ipython",
    "version": 3
   },
   "file_extension": ".py",
   "mimetype": "text/x-python",
   "name": "python",
   "nbconvert_exporter": "python",
   "pygments_lexer": "ipython3",
   "version": "3.8.2"
  },
  "toc-autonumbering": false,
  "toc-showtags": false
 },
 "nbformat": 4,
 "nbformat_minor": 4
}
