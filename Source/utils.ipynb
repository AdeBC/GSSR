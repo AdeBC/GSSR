{
 "cells": [
  {
   "cell_type": "code",
   "execution_count": 2,
   "metadata": {},
   "outputs": [],
   "source": [
    "import os\n",
    "import pandas as pd"
   ]
  },
  {
   "cell_type": "code",
   "execution_count": 3,
   "metadata": {},
   "outputs": [],
   "source": [
    "class Seq:\n",
    "    \n",
    "    def __init__(self, name, description, sequence):\n",
    "        self.name = name.lstrip('>')\n",
    "        self.desc = description.split('(')[1].split(')')[0]\n",
    "        self.seq = sequence.lower()\n",
    "\n",
    "\n",
    "def read_seq(file):\n",
    "    with open(file, 'r') as f:\n",
    "        con = [i.rstrip('\\n') for i in f.readlines()]\n",
    "    return Seq(con[0], con[1], ''.join(con[2:]))\n",
    "\n",
    "\n",
    "def load_sequences(folder):\n",
    "    seq_files = [os.path.join(folder, i) for i in os.listdir(folder) if not i.startswith('.')]\n",
    "    seqs = map(read_seq, seq_files)\n",
    "    seqs_df_rows = [(x.name, x.desc, x.seq) for x in tqdm(seqs)]\n",
    "    seqs_df = pd.DataFrame(seqs_df_rows, columns=['Name','CDSjoin','Sequence'])\n",
    "    return seqs_df\n",
    "\n",
    "def load_data():\n",
    "    # implements\n",
    "    pass"
   ]
  },
  {
   "cell_type": "code",
   "execution_count": null,
   "metadata": {},
   "outputs": [],
   "source": []
  }
 ],
 "metadata": {
  "kernelspec": {
   "display_name": "Python 3",
   "language": "python",
   "name": "python3"
  },
  "language_info": {
   "codemirror_mode": {
    "name": "ipython",
    "version": 3
   },
   "file_extension": ".py",
   "mimetype": "text/x-python",
   "name": "python",
   "nbconvert_exporter": "python",
   "pygments_lexer": "ipython3",
   "version": "3.8.2"
  }
 },
 "nbformat": 4,
 "nbformat_minor": 4
}
